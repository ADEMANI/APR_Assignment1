{
  "nbformat": 4,
  "nbformat_minor": 0,
  "metadata": {
    "colab": {
      "provenance": []
    },
    "kernelspec": {
      "name": "python3",
      "display_name": "Python 3"
    },
    "language_info": {
      "name": "python"
    }
  },
  "cells": [
    {
      "cell_type": "code",
      "source": [
        "from datasets import load_dataset\n",
        "\n",
        "# Load dataset\n",
        "dataset = load_dataset(\"MattNandavong/swin-text-classification-dataset\")\n",
        "\n",
        "print(dataset)\n",
        "print(dataset['train'][0])   # look at first row\n"
      ],
      "metadata": {
        "colab": {
          "base_uri": "https://localhost:8080/",
          "height": 359,
          "referenced_widgets": [
            "d335816c631848bb91c683fdf9b76b52",
            "0076c6240c6540baa77e4a3313dd01db",
            "0667db75a0b149e59f0f24636404b81e",
            "485039d32d93428b9ae29d202df52d98",
            "226a96dee9284eb1a0d296dd53476426",
            "56a66f337902435f924772e7344164c3",
            "6603ce32c2a84fbbb358cf5964ecbf4c",
            "c819ca687d8b497291ac11fce19f020f",
            "e8d2b3b380704f12b344986b4c9ec0f3",
            "c0b57a7faa734c43bea42a4aba0f83d0",
            "2013e38b94af4db695bbe0a5cb65060e",
            "0cb2e035b30f48f0812eb3515c367faa",
            "78801dfb2f5147359d44422c20e9579f",
            "3faaae7e3fde466c9ca469acff4a27b3",
            "2fa608a3650349f49f97dadd4a2a5eae",
            "d22c3550164f41709f6422242484bbf1",
            "cfc88512e06b4c47866aecd87586811d",
            "e888fc1061e74556820967d715a3fead",
            "0d8737ae0ff84c3eb5b5b926ef15f82c",
            "b95f7ae6759a4fc8b4c8af4003381dc0",
            "e4020937ab31402bbaa0e192ff53ad86",
            "2b2d6b4d27074f1fb8c9551b2c783d0c",
            "e7a538dff3f546de94a05a909dd246a7",
            "1dfc747cecc64b01a61efb666a9d7d31",
            "e906c57eb17141e28dd1bb1f3526b7a9",
            "69f2fb7c81a24ba3bcc28d5a18185429",
            "8a195ee892304bfebf4f9e81024d5484",
            "5ed788e4a46f4df08f5cc56c41e626bc",
            "5746ac97ad554688839afd5f35b1cd7f",
            "ca7a5d217c784f1e85ac4adf9c3e1848",
            "4375b34d555340c180c943f6e38c63bb",
            "6fdfa06fcd924bf9b75ed1261ec41379",
            "91d0f42c208a4c86a9be88168328cdad"
          ]
        },
        "id": "jGFIt9k39gMs",
        "outputId": "cac72167-dd79-44de-9fa6-f36c3de39ece"
      },
      "execution_count": 2,
      "outputs": [
        {
          "output_type": "stream",
          "name": "stderr",
          "text": [
            "/usr/local/lib/python3.12/dist-packages/huggingface_hub/utils/_auth.py:94: UserWarning: \n",
            "The secret `HF_TOKEN` does not exist in your Colab secrets.\n",
            "To authenticate with the Hugging Face Hub, create a token in your settings tab (https://huggingface.co/settings/tokens), set it as secret in your Google Colab and restart your session.\n",
            "You will be able to reuse this secret in all of your notebooks.\n",
            "Please note that authentication is recommended but still optional to access public models or datasets.\n",
            "  warnings.warn(\n"
          ]
        },
        {
          "output_type": "display_data",
          "data": {
            "text/plain": [
              "README.md: 0.00B [00:00, ?B/s]"
            ],
            "application/vnd.jupyter.widget-view+json": {
              "version_major": 2,
              "version_minor": 0,
              "model_id": "d335816c631848bb91c683fdf9b76b52"
            }
          },
          "metadata": {}
        },
        {
          "output_type": "display_data",
          "data": {
            "text/plain": [
              "sample_dataset.json:   0%|          | 0.00/639 [00:00<?, ?B/s]"
            ],
            "application/vnd.jupyter.widget-view+json": {
              "version_major": 2,
              "version_minor": 0,
              "model_id": "0cb2e035b30f48f0812eb3515c367faa"
            }
          },
          "metadata": {}
        },
        {
          "output_type": "display_data",
          "data": {
            "text/plain": [
              "Generating train split:   0%|          | 0/6 [00:00<?, ? examples/s]"
            ],
            "application/vnd.jupyter.widget-view+json": {
              "version_major": 2,
              "version_minor": 0,
              "model_id": "e7a538dff3f546de94a05a909dd246a7"
            }
          },
          "metadata": {}
        },
        {
          "output_type": "stream",
          "name": "stdout",
          "text": [
            "DatasetDict({\n",
            "    train: Dataset({\n",
            "        features: ['topic', 'query'],\n",
            "        num_rows: 6\n",
            "    })\n",
            "})\n",
            "{'topic': 'Applying and Enrolling', 'query': 'How can I apply for a job?'}\n"
          ]
        }
      ]
    },
    {
      "cell_type": "code",
      "source": [
        "# Extract queries and topics\n",
        "texts = [x['query'] for x in dataset['train']]\n",
        "labels = [x['topic'] for x in dataset['train']]\n",
        "\n",
        "print(\"Texts:\", texts)\n",
        "print(\"Labels:\", labels)\n"
      ],
      "metadata": {
        "colab": {
          "base_uri": "https://localhost:8080/"
        },
        "id": "JfkwykFQ9mRH",
        "outputId": "33600453-3970-4449-84cc-eead6b0d1421"
      },
      "execution_count": 3,
      "outputs": [
        {
          "output_type": "stream",
          "name": "stdout",
          "text": [
            "Texts: ['How can I apply for a job?', 'What are the top skills needed for customer service?', 'How do I reset my password?', 'What courses are available for enrollment?', 'How do I contact customer support?', 'What are the requirements for admission?']\n",
            "Labels: ['Applying and Enrolling', 'Customer Service Skills', 'Account Management', 'Applying and Enrolling', 'Customer Support', 'Admissions']\n"
          ]
        }
      ]
    },
    {
      "cell_type": "code",
      "source": [
        "from sklearn.preprocessing import LabelEncoder\n",
        "\n",
        "label_encoder = LabelEncoder()\n",
        "y = label_encoder.fit_transform(labels)\n",
        "\n",
        "print(\"Encoded labels:\", y)\n",
        "print(\"Classes:\", label_encoder.classes_)\n"
      ],
      "metadata": {
        "colab": {
          "base_uri": "https://localhost:8080/"
        },
        "id": "DfApAia39p4a",
        "outputId": "f42541c1-27fd-43d4-968d-bcf5177f2328"
      },
      "execution_count": 4,
      "outputs": [
        {
          "output_type": "stream",
          "name": "stdout",
          "text": [
            "Encoded labels: [2 3 0 2 4 1]\n",
            "Classes: ['Account Management' 'Admissions' 'Applying and Enrolling'\n",
            " 'Customer Service Skills' 'Customer Support']\n"
          ]
        }
      ]
    },
    {
      "cell_type": "code",
      "source": [
        "from sklearn.feature_extraction.text import TfidfVectorizer\n",
        "\n",
        "vectorizer = TfidfVectorizer(stop_words=\"english\", max_features=1000)\n",
        "X = vectorizer.fit_transform(texts)\n",
        "\n",
        "print(\"Shape of features:\", X.shape)\n"
      ],
      "metadata": {
        "colab": {
          "base_uri": "https://localhost:8080/"
        },
        "id": "iwot2io19qft",
        "outputId": "f15e1055-c1e7-4a90-8bbb-96ce66bb9e22"
      },
      "execution_count": 5,
      "outputs": [
        {
          "output_type": "stream",
          "name": "stdout",
          "text": [
            "Shape of features: (6, 15)\n"
          ]
        }
      ]
    },
    {
      "cell_type": "code",
      "source": [
        "from sklearn.linear_model import LogisticRegression\n",
        "\n",
        "clf = LogisticRegression(max_iter=1000)\n",
        "clf.fit(X, y)\n",
        "\n",
        "y_pred = clf.predict(X)\n"
      ],
      "metadata": {
        "id": "FEAnkSjo9v7H"
      },
      "execution_count": 6,
      "outputs": []
    },
    {
      "cell_type": "code",
      "source": [
        "from sklearn.metrics import accuracy_score, classification_report, confusion_matrix\n",
        "import seaborn as sns\n",
        "import matplotlib.pyplot as plt\n",
        "\n",
        "print(\"Accuracy:\", accuracy_score(y, y_pred))\n",
        "print(\"\\nClassification Report:\\n\", classification_report(y, y_pred, target_names=label_encoder.classes_))\n",
        "\n",
        "# Confusion Matrix\n",
        "cm = confusion_matrix(y, y_pred)\n",
        "plt.figure(figsize=(6,5))\n",
        "sns.heatmap(cm, annot=True, fmt='d', cmap=\"Blues\",\n",
        "            xticklabels=label_encoder.classes_,\n",
        "            yticklabels=label_encoder.classes_)\n",
        "plt.xlabel(\"Predicted\")\n",
        "plt.ylabel(\"Actual\")\n",
        "plt.title(\"Confusion Matrix\")\n",
        "plt.show()\n"
      ],
      "metadata": {
        "colab": {
          "base_uri": "https://localhost:8080/",
          "height": 896
        },
        "id": "l-ODV8yN9yi3",
        "outputId": "60a1c8f6-d9c2-4875-83c9-a77420eaa4de"
      },
      "execution_count": 7,
      "outputs": [
        {
          "output_type": "stream",
          "name": "stdout",
          "text": [
            "Accuracy: 1.0\n",
            "\n",
            "Classification Report:\n",
            "                          precision    recall  f1-score   support\n",
            "\n",
            "     Account Management       1.00      1.00      1.00         1\n",
            "             Admissions       1.00      1.00      1.00         1\n",
            " Applying and Enrolling       1.00      1.00      1.00         2\n",
            "Customer Service Skills       1.00      1.00      1.00         1\n",
            "       Customer Support       1.00      1.00      1.00         1\n",
            "\n",
            "               accuracy                           1.00         6\n",
            "              macro avg       1.00      1.00      1.00         6\n",
            "           weighted avg       1.00      1.00      1.00         6\n",
            "\n"
          ]
        },
        {
          "output_type": "display_data",
          "data": {
            "text/plain": [
              "<Figure size 600x500 with 2 Axes>"
            ],
            "image/png": "[encoded data removed]"
          },
          "metadata": {}
        }
      ]
    },
    {
      "cell_type": "code",
      "source": [
        "sample_queries = [\n",
        "    \"How do I register for a course?\",\n",
        "    \"What are key skills for working with customers?\"\n",
        "]\n",
        "\n",
        "sample_features = vectorizer.transform(sample_queries)\n",
        "sample_preds = clf.predict(sample_features)\n",
        "\n",
        "for q, pred in zip(sample_queries, sample_preds):\n",
        "    print(f\"Query: {q} --> Predicted Topic: {label_encoder.inverse_transform([pred])[0]}\")\n"
      ],
      "metadata": {
        "colab": {
          "base_uri": "https://localhost:8080/"
        },
        "id": "ha1QCiUY91Co",
        "outputId": "3b4f4358-59da-4fba-b170-aed856a0c167"
      },
      "execution_count": 8,
      "outputs": [
        {
          "output_type": "stream",
          "name": "stdout",
          "text": [
            "Query: How do I register for a course? --> Predicted Topic: Applying and Enrolling\n",
            "Query: What are key skills for working with customers? --> Predicted Topic: Applying and Enrolling\n"
          ]
        }
      ]
    },
    {
      "cell_type": "code",
      "source": [],
      "metadata": {
        "id": "JVXiwNVp97hL"
      },
      "execution_count": null,
      "outputs": []
    }
  ]
}